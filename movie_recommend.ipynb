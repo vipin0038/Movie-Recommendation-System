{
 "cells": [
  {
   "cell_type": "code",
   "execution_count": 152,
   "id": "cf3e11a4-70dd-475e-958b-e5667a076a6b",
   "metadata": {},
   "outputs": [],
   "source": [
    "import numpy as np\n",
    "import pandas as pd"
   ]
  },
  {
   "cell_type": "code",
   "execution_count": 153,
   "id": "fc6f6ef4-b419-4d04-81a8-f36f1861a0d7",
   "metadata": {},
   "outputs": [],
   "source": [
    "df = pd.read_csv('imdb_top_1000.csv')\n"
   ]
  },
  {
   "cell_type": "code",
   "execution_count": 154,
   "id": "5dcc6826-2b2b-44b7-9330-7e48ef314f9b",
   "metadata": {},
   "outputs": [],
   "source": [
    "df_movies = df[['Series_Title','Genre','Overview','Star1','Star2','Star3','Poster_Link']]"
   ]
  },
  {
   "cell_type": "code",
   "execution_count": 155,
   "id": "e9eeb6d1-6301-454d-96ff-2549d9b1be86",
   "metadata": {},
   "outputs": [
    {
     "name": "stderr",
     "output_type": "stream",
     "text": [
      "C:\\Users\\vipin\\AppData\\Local\\Temp\\ipykernel_25720\\3777830501.py:4: SettingWithCopyWarning: \n",
      "A value is trying to be set on a copy of a slice from a DataFrame.\n",
      "Try using .loc[row_indexer,col_indexer] = value instead\n",
      "\n",
      "See the caveats in the documentation: https://pandas.pydata.org/pandas-docs/stable/user_guide/indexing.html#returning-a-view-versus-a-copy\n",
      "  df_movies[i]= df_movies[i].apply(lambda x : x.replace(' ',''))\n"
     ]
    }
   ],
   "source": [
    "# Joining string by removing space \n",
    "col = ['Star1','Star2','Star3']\n",
    "for i in col:\n",
    " df_movies[i]= df_movies[i].apply(lambda x : x.replace(' ',''))\n"
   ]
  },
  {
   "cell_type": "code",
   "execution_count": 156,
   "id": "55ff7710-f8ff-4f01-b814-3d59a3b367d5",
   "metadata": {},
   "outputs": [
    {
     "data": {
      "text/html": [
       "<div>\n",
       "<style scoped>\n",
       "    .dataframe tbody tr th:only-of-type {\n",
       "        vertical-align: middle;\n",
       "    }\n",
       "\n",
       "    .dataframe tbody tr th {\n",
       "        vertical-align: top;\n",
       "    }\n",
       "\n",
       "    .dataframe thead th {\n",
       "        text-align: right;\n",
       "    }\n",
       "</style>\n",
       "<table border=\"1\" class=\"dataframe\">\n",
       "  <thead>\n",
       "    <tr style=\"text-align: right;\">\n",
       "      <th></th>\n",
       "      <th>Series_Title</th>\n",
       "      <th>Genre</th>\n",
       "      <th>Overview</th>\n",
       "      <th>Star1</th>\n",
       "      <th>Star2</th>\n",
       "      <th>Star3</th>\n",
       "      <th>Poster_Link</th>\n",
       "    </tr>\n",
       "  </thead>\n",
       "  <tbody>\n",
       "    <tr>\n",
       "      <th>0</th>\n",
       "      <td>The Shawshank Redemption</td>\n",
       "      <td>Drama</td>\n",
       "      <td>Two imprisoned men bond over a number of years...</td>\n",
       "      <td>TimRobbins</td>\n",
       "      <td>MorganFreeman</td>\n",
       "      <td>BobGunton</td>\n",
       "      <td>https://m.media-amazon.com/images/M/MV5BMDFkYT...</td>\n",
       "    </tr>\n",
       "    <tr>\n",
       "      <th>1</th>\n",
       "      <td>The Godfather</td>\n",
       "      <td>Crime, Drama</td>\n",
       "      <td>An organized crime dynasty's aging patriarch t...</td>\n",
       "      <td>MarlonBrando</td>\n",
       "      <td>AlPacino</td>\n",
       "      <td>JamesCaan</td>\n",
       "      <td>https://m.media-amazon.com/images/M/MV5BM2MyNj...</td>\n",
       "    </tr>\n",
       "    <tr>\n",
       "      <th>2</th>\n",
       "      <td>The Dark Knight</td>\n",
       "      <td>Action, Crime, Drama</td>\n",
       "      <td>When the menace known as the Joker wreaks havo...</td>\n",
       "      <td>ChristianBale</td>\n",
       "      <td>HeathLedger</td>\n",
       "      <td>AaronEckhart</td>\n",
       "      <td>https://m.media-amazon.com/images/M/MV5BMTMxNT...</td>\n",
       "    </tr>\n",
       "    <tr>\n",
       "      <th>3</th>\n",
       "      <td>The Godfather: Part II</td>\n",
       "      <td>Crime, Drama</td>\n",
       "      <td>The early life and career of Vito Corleone in ...</td>\n",
       "      <td>AlPacino</td>\n",
       "      <td>RobertDeNiro</td>\n",
       "      <td>RobertDuvall</td>\n",
       "      <td>https://m.media-amazon.com/images/M/MV5BMWMwMG...</td>\n",
       "    </tr>\n",
       "    <tr>\n",
       "      <th>4</th>\n",
       "      <td>12 Angry Men</td>\n",
       "      <td>Crime, Drama</td>\n",
       "      <td>A jury holdout attempts to prevent a miscarria...</td>\n",
       "      <td>HenryFonda</td>\n",
       "      <td>LeeJ.Cobb</td>\n",
       "      <td>MartinBalsam</td>\n",
       "      <td>https://m.media-amazon.com/images/M/MV5BMWU4N2...</td>\n",
       "    </tr>\n",
       "    <tr>\n",
       "      <th>...</th>\n",
       "      <td>...</td>\n",
       "      <td>...</td>\n",
       "      <td>...</td>\n",
       "      <td>...</td>\n",
       "      <td>...</td>\n",
       "      <td>...</td>\n",
       "      <td>...</td>\n",
       "    </tr>\n",
       "    <tr>\n",
       "      <th>995</th>\n",
       "      <td>Breakfast at Tiffany's</td>\n",
       "      <td>Comedy, Drama, Romance</td>\n",
       "      <td>A young New York socialite becomes interested ...</td>\n",
       "      <td>AudreyHepburn</td>\n",
       "      <td>GeorgePeppard</td>\n",
       "      <td>PatriciaNeal</td>\n",
       "      <td>https://m.media-amazon.com/images/M/MV5BNGEwMT...</td>\n",
       "    </tr>\n",
       "    <tr>\n",
       "      <th>996</th>\n",
       "      <td>Giant</td>\n",
       "      <td>Drama, Western</td>\n",
       "      <td>Sprawling epic covering the life of a Texas ca...</td>\n",
       "      <td>ElizabethTaylor</td>\n",
       "      <td>RockHudson</td>\n",
       "      <td>JamesDean</td>\n",
       "      <td>https://m.media-amazon.com/images/M/MV5BODk3Yj...</td>\n",
       "    </tr>\n",
       "    <tr>\n",
       "      <th>997</th>\n",
       "      <td>From Here to Eternity</td>\n",
       "      <td>Drama, Romance, War</td>\n",
       "      <td>In Hawaii in 1941, a private is cruelly punish...</td>\n",
       "      <td>BurtLancaster</td>\n",
       "      <td>MontgomeryClift</td>\n",
       "      <td>DeborahKerr</td>\n",
       "      <td>https://m.media-amazon.com/images/M/MV5BM2U3Yz...</td>\n",
       "    </tr>\n",
       "    <tr>\n",
       "      <th>998</th>\n",
       "      <td>Lifeboat</td>\n",
       "      <td>Drama, War</td>\n",
       "      <td>Several survivors of a torpedoed merchant ship...</td>\n",
       "      <td>TallulahBankhead</td>\n",
       "      <td>JohnHodiak</td>\n",
       "      <td>WalterSlezak</td>\n",
       "      <td>https://m.media-amazon.com/images/M/MV5BZTBmMj...</td>\n",
       "    </tr>\n",
       "    <tr>\n",
       "      <th>999</th>\n",
       "      <td>The 39 Steps</td>\n",
       "      <td>Crime, Mystery, Thriller</td>\n",
       "      <td>A man in London tries to help a counter-espion...</td>\n",
       "      <td>RobertDonat</td>\n",
       "      <td>MadeleineCarroll</td>\n",
       "      <td>LucieMannheim</td>\n",
       "      <td>https://m.media-amazon.com/images/M/MV5BMTY5OD...</td>\n",
       "    </tr>\n",
       "  </tbody>\n",
       "</table>\n",
       "<p>1000 rows × 7 columns</p>\n",
       "</div>"
      ],
      "text/plain": [
       "                 Series_Title                     Genre  \\\n",
       "0    The Shawshank Redemption                     Drama   \n",
       "1               The Godfather              Crime, Drama   \n",
       "2             The Dark Knight      Action, Crime, Drama   \n",
       "3      The Godfather: Part II              Crime, Drama   \n",
       "4                12 Angry Men              Crime, Drama   \n",
       "..                        ...                       ...   \n",
       "995    Breakfast at Tiffany's    Comedy, Drama, Romance   \n",
       "996                     Giant            Drama, Western   \n",
       "997     From Here to Eternity       Drama, Romance, War   \n",
       "998                  Lifeboat                Drama, War   \n",
       "999              The 39 Steps  Crime, Mystery, Thriller   \n",
       "\n",
       "                                              Overview             Star1  \\\n",
       "0    Two imprisoned men bond over a number of years...        TimRobbins   \n",
       "1    An organized crime dynasty's aging patriarch t...      MarlonBrando   \n",
       "2    When the menace known as the Joker wreaks havo...     ChristianBale   \n",
       "3    The early life and career of Vito Corleone in ...          AlPacino   \n",
       "4    A jury holdout attempts to prevent a miscarria...        HenryFonda   \n",
       "..                                                 ...               ...   \n",
       "995  A young New York socialite becomes interested ...     AudreyHepburn   \n",
       "996  Sprawling epic covering the life of a Texas ca...   ElizabethTaylor   \n",
       "997  In Hawaii in 1941, a private is cruelly punish...     BurtLancaster   \n",
       "998  Several survivors of a torpedoed merchant ship...  TallulahBankhead   \n",
       "999  A man in London tries to help a counter-espion...       RobertDonat   \n",
       "\n",
       "                Star2          Star3  \\\n",
       "0       MorganFreeman      BobGunton   \n",
       "1            AlPacino      JamesCaan   \n",
       "2         HeathLedger   AaronEckhart   \n",
       "3        RobertDeNiro   RobertDuvall   \n",
       "4           LeeJ.Cobb   MartinBalsam   \n",
       "..                ...            ...   \n",
       "995     GeorgePeppard   PatriciaNeal   \n",
       "996        RockHudson      JamesDean   \n",
       "997   MontgomeryClift    DeborahKerr   \n",
       "998        JohnHodiak   WalterSlezak   \n",
       "999  MadeleineCarroll  LucieMannheim   \n",
       "\n",
       "                                           Poster_Link  \n",
       "0    https://m.media-amazon.com/images/M/MV5BMDFkYT...  \n",
       "1    https://m.media-amazon.com/images/M/MV5BM2MyNj...  \n",
       "2    https://m.media-amazon.com/images/M/MV5BMTMxNT...  \n",
       "3    https://m.media-amazon.com/images/M/MV5BMWMwMG...  \n",
       "4    https://m.media-amazon.com/images/M/MV5BMWU4N2...  \n",
       "..                                                 ...  \n",
       "995  https://m.media-amazon.com/images/M/MV5BNGEwMT...  \n",
       "996  https://m.media-amazon.com/images/M/MV5BODk3Yj...  \n",
       "997  https://m.media-amazon.com/images/M/MV5BM2U3Yz...  \n",
       "998  https://m.media-amazon.com/images/M/MV5BZTBmMj...  \n",
       "999  https://m.media-amazon.com/images/M/MV5BMTY5OD...  \n",
       "\n",
       "[1000 rows x 7 columns]"
      ]
     },
     "execution_count": 156,
     "metadata": {},
     "output_type": "execute_result"
    }
   ],
   "source": [
    "df_movies    "
   ]
  },
  {
   "cell_type": "code",
   "execution_count": 160,
   "id": "fda08eec-d4d5-4c40-8ea1-c33fd80e73dd",
   "metadata": {},
   "outputs": [
    {
     "data": {
      "text/plain": [
       "0      Two imprisoned men bond over a number of years...\n",
       "1      An organized crime dynasty's aging patriarch t...\n",
       "2      When the menace known as the Joker wreaks havo...\n",
       "3      The early life and career of Vito Corleone in ...\n",
       "4      A jury holdout attempts to prevent a miscarria...\n",
       "                             ...                        \n",
       "995    A young New York socialite becomes interested ...\n",
       "996    Sprawling epic covering the life of a Texas ca...\n",
       "997    In Hawaii in 1941, a private is cruelly punish...\n",
       "998    Several survivors of a torpedoed merchant ship...\n",
       "999    A man in London tries to help a counter-espion...\n",
       "Name: Overview, Length: 1000, dtype: object"
      ]
     },
     "execution_count": 160,
     "metadata": {},
     "output_type": "execute_result"
    }
   ],
   "source": [
    "df_movies['Overview']"
   ]
  },
  {
   "cell_type": "code",
   "execution_count": 159,
   "id": "b80a93e6-b3f9-42ce-99b0-9403042fda1e",
   "metadata": {},
   "outputs": [
    {
     "data": {
      "text/plain": [
       "0      Two imprisoned men bond over a number of years...\n",
       "1      An organized crime dynasty's aging patriarch t...\n",
       "2      When the menace known as the Joker wreaks havo...\n",
       "3      The early life and career of Vito Corleone in ...\n",
       "4      A jury holdout attempts to prevent a miscarria...\n",
       "                             ...                        \n",
       "995    A young New York socialite becomes interested ...\n",
       "996    Sprawling epic covering the life of a Texas ca...\n",
       "997    In Hawaii in 1941, a private is cruelly punish...\n",
       "998    Several survivors of a torpedoed merchant ship...\n",
       "999    A man in London tries to help a counter-espion...\n",
       "Name: Overview, Length: 1000, dtype: object"
      ]
     },
     "execution_count": 159,
     "metadata": {},
     "output_type": "execute_result"
    }
   ],
   "source": [
    "df_movies['Overview'].apply(lambda x :\"\".join(x))"
   ]
  },
  {
   "cell_type": "code",
   "execution_count": 108,
   "id": "a507345c-2139-4925-b3b0-c524dc57dc45",
   "metadata": {},
   "outputs": [
    {
     "name": "stderr",
     "output_type": "stream",
     "text": [
      "C:\\Users\\vipin\\AppData\\Local\\Temp\\ipykernel_25720\\1842941325.py:2: SettingWithCopyWarning: \n",
      "A value is trying to be set on a copy of a slice from a DataFrame.\n",
      "Try using .loc[row_indexer,col_indexer] = value instead\n",
      "\n",
      "See the caveats in the documentation: https://pandas.pydata.org/pandas-docs/stable/user_guide/indexing.html#returning-a-view-versus-a-copy\n",
      "  df_movies['Overview'] = df_movies['Overview'].apply(lambda x :\"\".join(x))\n"
     ]
    }
   ],
   "source": [
    "import re\n",
    "#df_movies['Overview'] = df_movies['Overview'].apply(lambda x :\"\".join(x))"
   ]
  },
  {
   "cell_type": "code",
   "execution_count": 161,
   "id": "b1a2343d-14e5-4e61-850a-3dfc6592a9af",
   "metadata": {},
   "outputs": [
    {
     "name": "stderr",
     "output_type": "stream",
     "text": [
      "C:\\Users\\vipin\\AppData\\Local\\Temp\\ipykernel_25720\\2869088996.py:1: SettingWithCopyWarning: \n",
      "A value is trying to be set on a copy of a slice from a DataFrame.\n",
      "Try using .loc[row_indexer,col_indexer] = value instead\n",
      "\n",
      "See the caveats in the documentation: https://pandas.pydata.org/pandas-docs/stable/user_guide/indexing.html#returning-a-view-versus-a-copy\n",
      "  df_movies[\"Tags\"] = df_movies['Overview'] + \" \" + df_movies['Genre'] + ' ' + \\\n"
     ]
    }
   ],
   "source": [
    "df_movies[\"Tags\"] = df_movies['Overview'] + \" \" + df_movies['Genre'] + ' ' + \\\n",
    "                   df_movies['Star1'] +' ' + df_movies['Star2'] + ' ' + df_movies['Star3'] "
   ]
  },
  {
   "cell_type": "code",
   "execution_count": 162,
   "id": "252c3e9a-516d-44e5-8a34-5d21084d6ad4",
   "metadata": {},
   "outputs": [
    {
     "name": "stderr",
     "output_type": "stream",
     "text": [
      "C:\\Users\\vipin\\AppData\\Local\\Temp\\ipykernel_25720\\3121106068.py:1: SettingWithCopyWarning: \n",
      "A value is trying to be set on a copy of a slice from a DataFrame.\n",
      "Try using .loc[row_indexer,col_indexer] = value instead\n",
      "\n",
      "See the caveats in the documentation: https://pandas.pydata.org/pandas-docs/stable/user_guide/indexing.html#returning-a-view-versus-a-copy\n",
      "  df_movies['Tags'] = df_movies['Tags'].apply(lambda x : re.sub(r'[^a-zA-Z\\s]','',x))\n"
     ]
    }
   ],
   "source": [
    "df_movies['Tags'] = df_movies['Tags'].apply(lambda x : re.sub(r'[^a-zA-Z\\s]','',x))"
   ]
  },
  {
   "cell_type": "code",
   "execution_count": 163,
   "id": "1087fc99-e4be-48fc-8144-096e5bd166eb",
   "metadata": {},
   "outputs": [
    {
     "data": {
      "text/plain": [
       "'Gandalf and Aragorn lead the World of Men against Saurons army to draw his gaze from Frodo and Sam as they approach Mount Doom with the One Ring Action Adventure Drama ElijahWood ViggoMortensen IanMcKellen'"
      ]
     },
     "execution_count": 163,
     "metadata": {},
     "output_type": "execute_result"
    }
   ],
   "source": [
    "df_movies['Tags'][5]"
   ]
  },
  {
   "cell_type": "code",
   "execution_count": 164,
   "id": "9a5dc91e-8ef7-4902-bee9-63c093b88e89",
   "metadata": {},
   "outputs": [
    {
     "name": "stderr",
     "output_type": "stream",
     "text": [
      "C:\\Users\\vipin\\AppData\\Local\\Temp\\ipykernel_25720\\2415882488.py:1: SettingWithCopyWarning: \n",
      "A value is trying to be set on a copy of a slice from a DataFrame\n",
      "\n",
      "See the caveats in the documentation: https://pandas.pydata.org/pandas-docs/stable/user_guide/indexing.html#returning-a-view-versus-a-copy\n",
      "  df_movies.drop(columns = ['Genre','Overview','Star1','Star2','Star3'],inplace = True)\n"
     ]
    }
   ],
   "source": [
    "df_movies.drop(columns = ['Genre','Overview','Star1','Star2','Star3'],inplace = True)"
   ]
  },
  {
   "cell_type": "code",
   "execution_count": 165,
   "id": "dcd79407-4e70-4087-a8ec-cdf757c4e043",
   "metadata": {},
   "outputs": [
    {
     "data": {
      "text/html": [
       "<div>\n",
       "<style scoped>\n",
       "    .dataframe tbody tr th:only-of-type {\n",
       "        vertical-align: middle;\n",
       "    }\n",
       "\n",
       "    .dataframe tbody tr th {\n",
       "        vertical-align: top;\n",
       "    }\n",
       "\n",
       "    .dataframe thead th {\n",
       "        text-align: right;\n",
       "    }\n",
       "</style>\n",
       "<table border=\"1\" class=\"dataframe\">\n",
       "  <thead>\n",
       "    <tr style=\"text-align: right;\">\n",
       "      <th></th>\n",
       "      <th>Series_Title</th>\n",
       "      <th>Poster_Link</th>\n",
       "      <th>Tags</th>\n",
       "    </tr>\n",
       "  </thead>\n",
       "  <tbody>\n",
       "    <tr>\n",
       "      <th>0</th>\n",
       "      <td>The Shawshank Redemption</td>\n",
       "      <td>https://m.media-amazon.com/images/M/MV5BMDFkYT...</td>\n",
       "      <td>Two imprisoned men bond over a number of years...</td>\n",
       "    </tr>\n",
       "    <tr>\n",
       "      <th>1</th>\n",
       "      <td>The Godfather</td>\n",
       "      <td>https://m.media-amazon.com/images/M/MV5BM2MyNj...</td>\n",
       "      <td>An organized crime dynastys aging patriarch tr...</td>\n",
       "    </tr>\n",
       "    <tr>\n",
       "      <th>2</th>\n",
       "      <td>The Dark Knight</td>\n",
       "      <td>https://m.media-amazon.com/images/M/MV5BMTMxNT...</td>\n",
       "      <td>When the menace known as the Joker wreaks havo...</td>\n",
       "    </tr>\n",
       "    <tr>\n",
       "      <th>3</th>\n",
       "      <td>The Godfather: Part II</td>\n",
       "      <td>https://m.media-amazon.com/images/M/MV5BMWMwMG...</td>\n",
       "      <td>The early life and career of Vito Corleone in ...</td>\n",
       "    </tr>\n",
       "    <tr>\n",
       "      <th>4</th>\n",
       "      <td>12 Angry Men</td>\n",
       "      <td>https://m.media-amazon.com/images/M/MV5BMWU4N2...</td>\n",
       "      <td>A jury holdout attempts to prevent a miscarria...</td>\n",
       "    </tr>\n",
       "    <tr>\n",
       "      <th>...</th>\n",
       "      <td>...</td>\n",
       "      <td>...</td>\n",
       "      <td>...</td>\n",
       "    </tr>\n",
       "    <tr>\n",
       "      <th>995</th>\n",
       "      <td>Breakfast at Tiffany's</td>\n",
       "      <td>https://m.media-amazon.com/images/M/MV5BNGEwMT...</td>\n",
       "      <td>A young New York socialite becomes interested ...</td>\n",
       "    </tr>\n",
       "    <tr>\n",
       "      <th>996</th>\n",
       "      <td>Giant</td>\n",
       "      <td>https://m.media-amazon.com/images/M/MV5BODk3Yj...</td>\n",
       "      <td>Sprawling epic covering the life of a Texas ca...</td>\n",
       "    </tr>\n",
       "    <tr>\n",
       "      <th>997</th>\n",
       "      <td>From Here to Eternity</td>\n",
       "      <td>https://m.media-amazon.com/images/M/MV5BM2U3Yz...</td>\n",
       "      <td>In Hawaii in  a private is cruelly punished fo...</td>\n",
       "    </tr>\n",
       "    <tr>\n",
       "      <th>998</th>\n",
       "      <td>Lifeboat</td>\n",
       "      <td>https://m.media-amazon.com/images/M/MV5BZTBmMj...</td>\n",
       "      <td>Several survivors of a torpedoed merchant ship...</td>\n",
       "    </tr>\n",
       "    <tr>\n",
       "      <th>999</th>\n",
       "      <td>The 39 Steps</td>\n",
       "      <td>https://m.media-amazon.com/images/M/MV5BMTY5OD...</td>\n",
       "      <td>A man in London tries to help a counterespiona...</td>\n",
       "    </tr>\n",
       "  </tbody>\n",
       "</table>\n",
       "<p>1000 rows × 3 columns</p>\n",
       "</div>"
      ],
      "text/plain": [
       "                 Series_Title  \\\n",
       "0    The Shawshank Redemption   \n",
       "1               The Godfather   \n",
       "2             The Dark Knight   \n",
       "3      The Godfather: Part II   \n",
       "4                12 Angry Men   \n",
       "..                        ...   \n",
       "995    Breakfast at Tiffany's   \n",
       "996                     Giant   \n",
       "997     From Here to Eternity   \n",
       "998                  Lifeboat   \n",
       "999              The 39 Steps   \n",
       "\n",
       "                                           Poster_Link  \\\n",
       "0    https://m.media-amazon.com/images/M/MV5BMDFkYT...   \n",
       "1    https://m.media-amazon.com/images/M/MV5BM2MyNj...   \n",
       "2    https://m.media-amazon.com/images/M/MV5BMTMxNT...   \n",
       "3    https://m.media-amazon.com/images/M/MV5BMWMwMG...   \n",
       "4    https://m.media-amazon.com/images/M/MV5BMWU4N2...   \n",
       "..                                                 ...   \n",
       "995  https://m.media-amazon.com/images/M/MV5BNGEwMT...   \n",
       "996  https://m.media-amazon.com/images/M/MV5BODk3Yj...   \n",
       "997  https://m.media-amazon.com/images/M/MV5BM2U3Yz...   \n",
       "998  https://m.media-amazon.com/images/M/MV5BZTBmMj...   \n",
       "999  https://m.media-amazon.com/images/M/MV5BMTY5OD...   \n",
       "\n",
       "                                                  Tags  \n",
       "0    Two imprisoned men bond over a number of years...  \n",
       "1    An organized crime dynastys aging patriarch tr...  \n",
       "2    When the menace known as the Joker wreaks havo...  \n",
       "3    The early life and career of Vito Corleone in ...  \n",
       "4    A jury holdout attempts to prevent a miscarria...  \n",
       "..                                                 ...  \n",
       "995  A young New York socialite becomes interested ...  \n",
       "996  Sprawling epic covering the life of a Texas ca...  \n",
       "997  In Hawaii in  a private is cruelly punished fo...  \n",
       "998  Several survivors of a torpedoed merchant ship...  \n",
       "999  A man in London tries to help a counterespiona...  \n",
       "\n",
       "[1000 rows x 3 columns]"
      ]
     },
     "execution_count": 165,
     "metadata": {},
     "output_type": "execute_result"
    }
   ],
   "source": [
    "df_movies"
   ]
  },
  {
   "cell_type": "code",
   "execution_count": 181,
   "id": "0e515d53-82cb-4df6-aad9-6be4ba07e6df",
   "metadata": {},
   "outputs": [],
   "source": [
    "from nltk.stem import PorterStemmer"
   ]
  },
  {
   "cell_type": "code",
   "execution_count": 167,
   "id": "916cd404-6db3-4a35-8ba0-a6dc32c79327",
   "metadata": {},
   "outputs": [],
   "source": [
    "def stemmer(text):\n",
    "    y = []\n",
    "    ps = PorterStemmer()\n",
    "    for i in text.lower().split():\n",
    "       y.append(ps.stem(i))\n",
    "    return ' '.join(y)\n",
    "        "
   ]
  },
  {
   "cell_type": "code",
   "execution_count": 169,
   "id": "eaea238a-cc20-41b3-93eb-7df6ea87a730",
   "metadata": {},
   "outputs": [
    {
     "name": "stderr",
     "output_type": "stream",
     "text": [
      "C:\\Users\\vipin\\AppData\\Local\\Temp\\ipykernel_25720\\2097967087.py:1: SettingWithCopyWarning: \n",
      "A value is trying to be set on a copy of a slice from a DataFrame.\n",
      "Try using .loc[row_indexer,col_indexer] = value instead\n",
      "\n",
      "See the caveats in the documentation: https://pandas.pydata.org/pandas-docs/stable/user_guide/indexing.html#returning-a-view-versus-a-copy\n",
      "  df_movies['Tags'] = df_movies['Tags'].apply(stemmer)\n"
     ]
    }
   ],
   "source": [
    "df_movies['Tags'] = df_movies['Tags'].apply(stemmer) "
   ]
  },
  {
   "cell_type": "code",
   "execution_count": 170,
   "id": "f8a7b14a-8e46-4c27-9837-fc98ebed7861",
   "metadata": {},
   "outputs": [
    {
     "data": {
      "text/html": [
       "<div>\n",
       "<style scoped>\n",
       "    .dataframe tbody tr th:only-of-type {\n",
       "        vertical-align: middle;\n",
       "    }\n",
       "\n",
       "    .dataframe tbody tr th {\n",
       "        vertical-align: top;\n",
       "    }\n",
       "\n",
       "    .dataframe thead th {\n",
       "        text-align: right;\n",
       "    }\n",
       "</style>\n",
       "<table border=\"1\" class=\"dataframe\">\n",
       "  <thead>\n",
       "    <tr style=\"text-align: right;\">\n",
       "      <th></th>\n",
       "      <th>Series_Title</th>\n",
       "      <th>Poster_Link</th>\n",
       "      <th>Tags</th>\n",
       "    </tr>\n",
       "  </thead>\n",
       "  <tbody>\n",
       "    <tr>\n",
       "      <th>0</th>\n",
       "      <td>The Shawshank Redemption</td>\n",
       "      <td>https://m.media-amazon.com/images/M/MV5BMDFkYT...</td>\n",
       "      <td>two imprison men bond over a number of year fi...</td>\n",
       "    </tr>\n",
       "    <tr>\n",
       "      <th>1</th>\n",
       "      <td>The Godfather</td>\n",
       "      <td>https://m.media-amazon.com/images/M/MV5BM2MyNj...</td>\n",
       "      <td>an organ crime dynasti age patriarch transfer ...</td>\n",
       "    </tr>\n",
       "    <tr>\n",
       "      <th>2</th>\n",
       "      <td>The Dark Knight</td>\n",
       "      <td>https://m.media-amazon.com/images/M/MV5BMTMxNT...</td>\n",
       "      <td>when the menac known as the joker wreak havoc ...</td>\n",
       "    </tr>\n",
       "    <tr>\n",
       "      <th>3</th>\n",
       "      <td>The Godfather: Part II</td>\n",
       "      <td>https://m.media-amazon.com/images/M/MV5BMWMwMG...</td>\n",
       "      <td>the earli life and career of vito corleon in s...</td>\n",
       "    </tr>\n",
       "    <tr>\n",
       "      <th>4</th>\n",
       "      <td>12 Angry Men</td>\n",
       "      <td>https://m.media-amazon.com/images/M/MV5BMWU4N2...</td>\n",
       "      <td>a juri holdout attempt to prevent a miscarriag...</td>\n",
       "    </tr>\n",
       "    <tr>\n",
       "      <th>...</th>\n",
       "      <td>...</td>\n",
       "      <td>...</td>\n",
       "      <td>...</td>\n",
       "    </tr>\n",
       "    <tr>\n",
       "      <th>995</th>\n",
       "      <td>Breakfast at Tiffany's</td>\n",
       "      <td>https://m.media-amazon.com/images/M/MV5BNGEwMT...</td>\n",
       "      <td>a young new york socialit becom interest in a ...</td>\n",
       "    </tr>\n",
       "    <tr>\n",
       "      <th>996</th>\n",
       "      <td>Giant</td>\n",
       "      <td>https://m.media-amazon.com/images/M/MV5BODk3Yj...</td>\n",
       "      <td>sprawl epic cover the life of a texa cattl ran...</td>\n",
       "    </tr>\n",
       "    <tr>\n",
       "      <th>997</th>\n",
       "      <td>From Here to Eternity</td>\n",
       "      <td>https://m.media-amazon.com/images/M/MV5BM2U3Yz...</td>\n",
       "      <td>in hawaii in a privat is cruelli punish for no...</td>\n",
       "    </tr>\n",
       "    <tr>\n",
       "      <th>998</th>\n",
       "      <td>Lifeboat</td>\n",
       "      <td>https://m.media-amazon.com/images/M/MV5BZTBmMj...</td>\n",
       "      <td>sever survivor of a torpedo merchant ship in w...</td>\n",
       "    </tr>\n",
       "    <tr>\n",
       "      <th>999</th>\n",
       "      <td>The 39 Steps</td>\n",
       "      <td>https://m.media-amazon.com/images/M/MV5BMTY5OD...</td>\n",
       "      <td>a man in london tri to help a counterespionag ...</td>\n",
       "    </tr>\n",
       "  </tbody>\n",
       "</table>\n",
       "<p>1000 rows × 3 columns</p>\n",
       "</div>"
      ],
      "text/plain": [
       "                 Series_Title  \\\n",
       "0    The Shawshank Redemption   \n",
       "1               The Godfather   \n",
       "2             The Dark Knight   \n",
       "3      The Godfather: Part II   \n",
       "4                12 Angry Men   \n",
       "..                        ...   \n",
       "995    Breakfast at Tiffany's   \n",
       "996                     Giant   \n",
       "997     From Here to Eternity   \n",
       "998                  Lifeboat   \n",
       "999              The 39 Steps   \n",
       "\n",
       "                                           Poster_Link  \\\n",
       "0    https://m.media-amazon.com/images/M/MV5BMDFkYT...   \n",
       "1    https://m.media-amazon.com/images/M/MV5BM2MyNj...   \n",
       "2    https://m.media-amazon.com/images/M/MV5BMTMxNT...   \n",
       "3    https://m.media-amazon.com/images/M/MV5BMWMwMG...   \n",
       "4    https://m.media-amazon.com/images/M/MV5BMWU4N2...   \n",
       "..                                                 ...   \n",
       "995  https://m.media-amazon.com/images/M/MV5BNGEwMT...   \n",
       "996  https://m.media-amazon.com/images/M/MV5BODk3Yj...   \n",
       "997  https://m.media-amazon.com/images/M/MV5BM2U3Yz...   \n",
       "998  https://m.media-amazon.com/images/M/MV5BZTBmMj...   \n",
       "999  https://m.media-amazon.com/images/M/MV5BMTY5OD...   \n",
       "\n",
       "                                                  Tags  \n",
       "0    two imprison men bond over a number of year fi...  \n",
       "1    an organ crime dynasti age patriarch transfer ...  \n",
       "2    when the menac known as the joker wreak havoc ...  \n",
       "3    the earli life and career of vito corleon in s...  \n",
       "4    a juri holdout attempt to prevent a miscarriag...  \n",
       "..                                                 ...  \n",
       "995  a young new york socialit becom interest in a ...  \n",
       "996  sprawl epic cover the life of a texa cattl ran...  \n",
       "997  in hawaii in a privat is cruelli punish for no...  \n",
       "998  sever survivor of a torpedo merchant ship in w...  \n",
       "999  a man in london tri to help a counterespionag ...  \n",
       "\n",
       "[1000 rows x 3 columns]"
      ]
     },
     "execution_count": 170,
     "metadata": {},
     "output_type": "execute_result"
    }
   ],
   "source": [
    "df_movies"
   ]
  },
  {
   "cell_type": "code",
   "execution_count": 171,
   "id": "d7f9a76f-e06d-4d74-b7c6-6901c78fdd1d",
   "metadata": {},
   "outputs": [],
   "source": [
    "from sklearn.feature_extraction.text import CountVectorizer\n",
    "cv = CountVectorizer(max_features=1000,stop_words='english')\n",
    "     \n",
    "vector = cv.fit_transform(df_movies['Tags']).toarray()"
   ]
  },
  {
   "cell_type": "code",
   "execution_count": 172,
   "id": "f51a9e49-ca64-4294-8e57-a1d33c0c28be",
   "metadata": {},
   "outputs": [
    {
     "data": {
      "text/plain": [
       "1000"
      ]
     },
     "execution_count": 172,
     "metadata": {},
     "output_type": "execute_result"
    }
   ],
   "source": [
    "len(cv.get_feature_names_out())"
   ]
  },
  {
   "cell_type": "code",
   "execution_count": 173,
   "id": "4a95fa99-886e-4651-b421-77d9179fe913",
   "metadata": {},
   "outputs": [],
   "source": [
    "from sklearn.metrics.pairwise import cosine_similarity"
   ]
  },
  {
   "cell_type": "code",
   "execution_count": 174,
   "id": "725c5d4c-ed39-4353-85a1-e747fec1a7af",
   "metadata": {},
   "outputs": [],
   "source": [
    "cos_sim = cosine_similarity(vector)"
   ]
  },
  {
   "cell_type": "code",
   "execution_count": 175,
   "id": "24f48aca-2065-4f72-815b-ff7f5bc1ec50",
   "metadata": {},
   "outputs": [
    {
     "data": {
      "text/plain": [
       "array([[1.        , 0.08908708, 0.09245003, ..., 0.08333333, 0.08333333,\n",
       "        0.        ],\n",
       "       [0.08908708, 1.        , 0.37062466, ..., 0.33407655, 0.06681531,\n",
       "        0.10101525],\n",
       "       [0.09245003, 0.37062466, 1.        , ..., 0.20801257, 0.06933752,\n",
       "        0.05241424],\n",
       "       ...,\n",
       "       [0.08333333, 0.33407655, 0.20801257, ..., 1.        , 0.1875    ,\n",
       "        0.        ],\n",
       "       [0.08333333, 0.06681531, 0.06933752, ..., 0.1875    , 1.        ,\n",
       "        0.        ],\n",
       "       [0.        , 0.10101525, 0.05241424, ..., 0.        , 0.        ,\n",
       "        1.        ]], shape=(1000, 1000))"
      ]
     },
     "execution_count": 175,
     "metadata": {},
     "output_type": "execute_result"
    }
   ],
   "source": [
    "cos_sim"
   ]
  },
  {
   "cell_type": "code",
   "execution_count": 182,
   "id": "887b16c6-3524-433b-b7d0-b75d161ce5f0",
   "metadata": {},
   "outputs": [],
   "source": [
    "def recommend(movie):\n",
    "    index = df_movies[df_movies['Series_Title'] == movie].index[0]\n",
    "    distances = sorted(list(enumerate(cos_sim[index])), reverse=True, key=lambda x: x[1])\n",
    "    recommended_movie_names = []\n",
    "    recommended_movie_posters = []\n",
    "    for i in distances[1:6]:\n",
    "        recommended_movie_names.append(df_movies.iloc[i[0]].Series_Title)\n",
    "\n",
    "    return recommended_movie_names #recommended_movie_posters\n"
   ]
  },
  {
   "cell_type": "code",
   "execution_count": 184,
   "id": "387be262-dc00-4893-8930-f99a2a14912c",
   "metadata": {},
   "outputs": [
    {
     "data": {
      "text/html": [
       "<div>\n",
       "<style scoped>\n",
       "    .dataframe tbody tr th:only-of-type {\n",
       "        vertical-align: middle;\n",
       "    }\n",
       "\n",
       "    .dataframe tbody tr th {\n",
       "        vertical-align: top;\n",
       "    }\n",
       "\n",
       "    .dataframe thead th {\n",
       "        text-align: right;\n",
       "    }\n",
       "</style>\n",
       "<table border=\"1\" class=\"dataframe\">\n",
       "  <thead>\n",
       "    <tr style=\"text-align: right;\">\n",
       "      <th></th>\n",
       "      <th>Series_Title</th>\n",
       "      <th>Poster_Link</th>\n",
       "      <th>Tags</th>\n",
       "    </tr>\n",
       "  </thead>\n",
       "  <tbody>\n",
       "    <tr>\n",
       "      <th>0</th>\n",
       "      <td>The Shawshank Redemption</td>\n",
       "      <td>https://m.media-amazon.com/images/M/MV5BMDFkYT...</td>\n",
       "      <td>two imprison men bond over a number of year fi...</td>\n",
       "    </tr>\n",
       "    <tr>\n",
       "      <th>1</th>\n",
       "      <td>The Godfather</td>\n",
       "      <td>https://m.media-amazon.com/images/M/MV5BM2MyNj...</td>\n",
       "      <td>an organ crime dynasti age patriarch transfer ...</td>\n",
       "    </tr>\n",
       "    <tr>\n",
       "      <th>2</th>\n",
       "      <td>The Dark Knight</td>\n",
       "      <td>https://m.media-amazon.com/images/M/MV5BMTMxNT...</td>\n",
       "      <td>when the menac known as the joker wreak havoc ...</td>\n",
       "    </tr>\n",
       "    <tr>\n",
       "      <th>3</th>\n",
       "      <td>The Godfather: Part II</td>\n",
       "      <td>https://m.media-amazon.com/images/M/MV5BMWMwMG...</td>\n",
       "      <td>the earli life and career of vito corleon in s...</td>\n",
       "    </tr>\n",
       "    <tr>\n",
       "      <th>4</th>\n",
       "      <td>12 Angry Men</td>\n",
       "      <td>https://m.media-amazon.com/images/M/MV5BMWU4N2...</td>\n",
       "      <td>a juri holdout attempt to prevent a miscarriag...</td>\n",
       "    </tr>\n",
       "    <tr>\n",
       "      <th>...</th>\n",
       "      <td>...</td>\n",
       "      <td>...</td>\n",
       "      <td>...</td>\n",
       "    </tr>\n",
       "    <tr>\n",
       "      <th>995</th>\n",
       "      <td>Breakfast at Tiffany's</td>\n",
       "      <td>https://m.media-amazon.com/images/M/MV5BNGEwMT...</td>\n",
       "      <td>a young new york socialit becom interest in a ...</td>\n",
       "    </tr>\n",
       "    <tr>\n",
       "      <th>996</th>\n",
       "      <td>Giant</td>\n",
       "      <td>https://m.media-amazon.com/images/M/MV5BODk3Yj...</td>\n",
       "      <td>sprawl epic cover the life of a texa cattl ran...</td>\n",
       "    </tr>\n",
       "    <tr>\n",
       "      <th>997</th>\n",
       "      <td>From Here to Eternity</td>\n",
       "      <td>https://m.media-amazon.com/images/M/MV5BM2U3Yz...</td>\n",
       "      <td>in hawaii in a privat is cruelli punish for no...</td>\n",
       "    </tr>\n",
       "    <tr>\n",
       "      <th>998</th>\n",
       "      <td>Lifeboat</td>\n",
       "      <td>https://m.media-amazon.com/images/M/MV5BZTBmMj...</td>\n",
       "      <td>sever survivor of a torpedo merchant ship in w...</td>\n",
       "    </tr>\n",
       "    <tr>\n",
       "      <th>999</th>\n",
       "      <td>The 39 Steps</td>\n",
       "      <td>https://m.media-amazon.com/images/M/MV5BMTY5OD...</td>\n",
       "      <td>a man in london tri to help a counterespionag ...</td>\n",
       "    </tr>\n",
       "  </tbody>\n",
       "</table>\n",
       "<p>1000 rows × 3 columns</p>\n",
       "</div>"
      ],
      "text/plain": [
       "                 Series_Title  \\\n",
       "0    The Shawshank Redemption   \n",
       "1               The Godfather   \n",
       "2             The Dark Knight   \n",
       "3      The Godfather: Part II   \n",
       "4                12 Angry Men   \n",
       "..                        ...   \n",
       "995    Breakfast at Tiffany's   \n",
       "996                     Giant   \n",
       "997     From Here to Eternity   \n",
       "998                  Lifeboat   \n",
       "999              The 39 Steps   \n",
       "\n",
       "                                           Poster_Link  \\\n",
       "0    https://m.media-amazon.com/images/M/MV5BMDFkYT...   \n",
       "1    https://m.media-amazon.com/images/M/MV5BM2MyNj...   \n",
       "2    https://m.media-amazon.com/images/M/MV5BMTMxNT...   \n",
       "3    https://m.media-amazon.com/images/M/MV5BMWMwMG...   \n",
       "4    https://m.media-amazon.com/images/M/MV5BMWU4N2...   \n",
       "..                                                 ...   \n",
       "995  https://m.media-amazon.com/images/M/MV5BNGEwMT...   \n",
       "996  https://m.media-amazon.com/images/M/MV5BODk3Yj...   \n",
       "997  https://m.media-amazon.com/images/M/MV5BM2U3Yz...   \n",
       "998  https://m.media-amazon.com/images/M/MV5BZTBmMj...   \n",
       "999  https://m.media-amazon.com/images/M/MV5BMTY5OD...   \n",
       "\n",
       "                                                  Tags  \n",
       "0    two imprison men bond over a number of year fi...  \n",
       "1    an organ crime dynasti age patriarch transfer ...  \n",
       "2    when the menac known as the joker wreak havoc ...  \n",
       "3    the earli life and career of vito corleon in s...  \n",
       "4    a juri holdout attempt to prevent a miscarriag...  \n",
       "..                                                 ...  \n",
       "995  a young new york socialit becom interest in a ...  \n",
       "996  sprawl epic cover the life of a texa cattl ran...  \n",
       "997  in hawaii in a privat is cruelli punish for no...  \n",
       "998  sever survivor of a torpedo merchant ship in w...  \n",
       "999  a man in london tri to help a counterespionag ...  \n",
       "\n",
       "[1000 rows x 3 columns]"
      ]
     },
     "execution_count": 184,
     "metadata": {},
     "output_type": "execute_result"
    }
   ],
   "source": [
    "df_movies"
   ]
  },
  {
   "cell_type": "code",
   "execution_count": 186,
   "id": "07fde1d9-0e6c-432f-af25-7a85589d240e",
   "metadata": {},
   "outputs": [
    {
     "data": {
      "text/plain": [
       "['Paris, Texas',\n",
       " 'Sound of Metal',\n",
       " 'Malcolm X',\n",
       " 'Diarios de motocicleta',\n",
       " 'The Butterfly Effect']"
      ]
     },
     "execution_count": 186,
     "metadata": {},
     "output_type": "execute_result"
    }
   ],
   "source": [
    "recommend('Giant')"
   ]
  },
  {
   "cell_type": "code",
   "execution_count": 670,
   "id": "c3cfa46c-121c-4ab3-a3b3-bda61b56df64",
   "metadata": {},
   "outputs": [],
   "source": [
    "import pickle\n",
    "pickle.dump(df_movies,open('movie_list.pkl','wb'))\n",
    "pickle.dump(cos_sim,open('similarity.pkl','wb'))"
   ]
  },
  {
   "cell_type": "code",
   "execution_count": null,
   "id": "e677ab1e-2b0e-4fc5-aab9-91a2d45003ce",
   "metadata": {},
   "outputs": [],
   "source": []
  }
 ],
 "metadata": {
  "kernelspec": {
   "display_name": "Python 3 (ipykernel)",
   "language": "python",
   "name": "python3"
  },
  "language_info": {
   "codemirror_mode": {
    "name": "ipython",
    "version": 3
   },
   "file_extension": ".py",
   "mimetype": "text/x-python",
   "name": "python",
   "nbconvert_exporter": "python",
   "pygments_lexer": "ipython3",
   "version": "3.12.9"
  }
 },
 "nbformat": 4,
 "nbformat_minor": 5
}
